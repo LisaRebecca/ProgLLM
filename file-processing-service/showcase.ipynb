{
 "cells": [
  {
   "cell_type": "markdown",
   "metadata": {},
   "source": [
    "## Getting a Summary"
   ]
  },
  {
   "cell_type": "code",
   "execution_count": 3,
   "metadata": {},
   "outputs": [],
   "source": [
    "from functions import get_summary_from_text"
   ]
  },
  {
   "cell_type": "code",
   "execution_count": 1,
   "metadata": {},
   "outputs": [],
   "source": [
    "sample_paragraph_orca = \"\"\"The orca (Orcinus orca), or killer whale, is a toothed whale that is the largest member of the oceanic dolphin family. It is the only extant species in the genus Orcinus. Orcas are recognizable by their black-and-white patterned body. A cosmopolitan species, orcas are found in diverse marine environments, from Arctic to Antarctic regions to tropical seas.\n",
    "\n",
    "Orcas are apex predators with a diverse diet. Individual populations often specialize in particular types of prey. This includes a variety of fish, sharks, rays, and marine mammals such as seals and other dolphins and whales. They are highly social; some populations are composed of highly stable matrilineal family groups (pods). Their sophisticated hunting techniques and vocal behaviors, often specific to a particular group and passed along from generation to generation are considered to be manifestations of animal culture.\n",
    "\n",
    "The International Union for Conservation of Nature assesses the orca's conservation status as data deficient because of the likelihood that two or more orca types are separate species. Some local populations are considered threatened or endangered due to prey depletion, habitat loss, pollution (by PCBs), capture for marine mammal parks, and conflicts with human fisheries. In late 2005, the southern resident orcas, which swim in British Columbia and Washington waters, were placed on the U.S. Endangered Species list.\n",
    "\n",
    "Orcas are not usually a threat to humans, and no fatal attack has ever been documented in their natural habitat. There have been cases of captive orcas killing or injuring their handlers at marine theme parks. Orcas feature strongly in the mythologies of indigenous cultures, and their reputation in different cultures ranges from being the souls of humans to merciless killers.\"\"\""
   ]
  },
  {
   "cell_type": "code",
   "execution_count": 4,
   "metadata": {},
   "outputs": [
    {
     "data": {
      "text/plain": [
       "'The orca, also known as the killer whale, is the largest member of the oceanic dolphin family and is recognized by its black-and-white body pattern. They are apex predators with a diverse diet, specializing in various types of prey. Orcas are highly social, forming matrilineal family groups or pods, and exhibit sophisticated hunting techniques and vocal behaviors passed down through generations, reflecting animal culture. Their conservation status is considered data deficient due to the possibility of separate orca species, with some populations being threatened or endangered. Orcas are not typically a threat to humans in the wild, but there have been incidents of captive orcas harming their handlers. They hold significance in various indigenous mythologies, with interpretations ranging from souls of humans to fearsome predators.'"
      ]
     },
     "execution_count": 4,
     "metadata": {},
     "output_type": "execute_result"
    }
   ],
   "source": [
    "get_summary_from_text(sample_paragraph_orca)"
   ]
  },
  {
   "cell_type": "markdown",
   "metadata": {},
   "source": [
    "## Getting Comprehensive Questions"
   ]
  },
  {
   "cell_type": "code",
   "execution_count": 1,
   "metadata": {},
   "outputs": [],
   "source": [
    "from functions import get_question_from_text"
   ]
  },
  {
   "cell_type": "code",
   "execution_count": 2,
   "metadata": {},
   "outputs": [],
   "source": [
    "sample_text = \"\"\"The capybara is a large rodent native to South America and is the largest living rodent. It is closely related to guinea pigs and rock cavies, and more distantly related to other rodents such as the chinchilla and nutria. Capybaras live in groups near bodies of water in savannas and dense forests, with group sizes ranging from 10 to 100 individuals. They are hunted for meat, hide, and grease obtained from their fatty skin.\"\"\""
   ]
  },
  {
   "cell_type": "code",
   "execution_count": 3,
   "metadata": {},
   "outputs": [
    {
     "data": {
      "text/plain": [
       "(\"What is the capybara's natural habitat and group behavior?\",\n",
       " 'Capybaras live in groups near bodies of water in savannas and dense forests, with group sizes ranging from 10 to 100 individuals.')"
      ]
     },
     "execution_count": 3,
     "metadata": {},
     "output_type": "execute_result"
    }
   ],
   "source": [
    "get_question_from_text(sample_text)"
   ]
  }
 ],
 "metadata": {
  "kernelspec": {
   "display_name": "Python 3",
   "language": "python",
   "name": "python3"
  },
  "language_info": {
   "codemirror_mode": {
    "name": "ipython",
    "version": 3
   },
   "file_extension": ".py",
   "mimetype": "text/x-python",
   "name": "python",
   "nbconvert_exporter": "python",
   "pygments_lexer": "ipython3",
   "version": "3.11.0"
  }
 },
 "nbformat": 4,
 "nbformat_minor": 2
}
